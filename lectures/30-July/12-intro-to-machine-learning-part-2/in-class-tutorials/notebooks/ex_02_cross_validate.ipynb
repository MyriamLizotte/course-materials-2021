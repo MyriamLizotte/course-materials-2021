{
 "cells": [
  {
   "cell_type": "code",
   "execution_count": null,
   "id": "relative-thursday",
   "metadata": {},
   "outputs": [],
   "source": [
    "from sklearn.datasets import make_regression\n",
    "from sklearn.linear_model import Ridge"
   ]
  },
  {
   "cell_type": "code",
   "execution_count": null,
   "id": "adopted-congress",
   "metadata": {},
   "outputs": [],
   "source": [
    "X, y = make_regression(noise=10)\n",
    "model = Ridge()"
   ]
  },
  {
   "cell_type": "code",
   "execution_count": null,
   "id": "pleased-patent",
   "metadata": {},
   "outputs": [],
   "source": [
    "# TODO: using an appropriate function from scikit-learn, compute\n",
    "# cross-validation scores for a ridge regression on this dataset. What\n",
    "# cross-validation strategy is used? what do the scores represent -- what\n",
    "# performance metric is used?\n",
    "# What is a good choice for k?\n",
    "scores = \"???\"\n",
    "print(scores)"
   ]
  }
 ],
 "metadata": {
  "jupytext": {
   "cell_metadata_filter": "-all",
   "main_language": "python",
   "notebook_metadata_filter": "-all"
  },
  "kernelspec": {
   "display_name": "Python 3",
   "language": "python",
   "name": "python3"
  },
  "language_info": {
   "codemirror_mode": {
    "name": "ipython",
    "version": 3
   },
   "file_extension": ".py",
   "mimetype": "text/x-python",
   "name": "python",
   "nbconvert_exporter": "python",
   "pygments_lexer": "ipython3",
   "version": "3.8.10"
  }
 },
 "nbformat": 4,
 "nbformat_minor": 5
}
