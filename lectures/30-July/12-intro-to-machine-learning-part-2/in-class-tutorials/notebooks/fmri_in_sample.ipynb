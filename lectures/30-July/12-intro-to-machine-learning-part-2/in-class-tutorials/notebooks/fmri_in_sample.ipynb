{
 "cells": [
  {
   "cell_type": "code",
   "execution_count": null,
   "id": "terminal-layout",
   "metadata": {},
   "outputs": [],
   "source": [
    "from nilearn import datasets\n",
    "from nilearn.connectome import ConnectivityMeasure"
   ]
  },
  {
   "cell_type": "code",
   "execution_count": null,
   "id": "tough-point",
   "metadata": {},
   "outputs": [],
   "source": [
    "from sklearn.preprocessing import LabelEncoder\n",
    "from sklearn.model_selection import cross_validate\n",
    "from sklearn.pipeline import make_pipeline\n",
    "from sklearn.linear_model import LogisticRegression\n",
    "from sklearn.metrics import accuracy_score"
   ]
  },
  {
   "cell_type": "code",
   "execution_count": null,
   "id": "naval-homeless",
   "metadata": {},
   "outputs": [],
   "source": [
    "from matplotlib import pyplot as plt\n",
    "import pandas as pd\n",
    "import seaborn as sns"
   ]
  },
  {
   "cell_type": "code",
   "execution_count": null,
   "id": "accurate-blues",
   "metadata": {},
   "outputs": [],
   "source": [
    "def load_abide_data(n_subjects=100):\n",
    "    data = datasets.fetch_abide_pcp(\n",
    "        n_subjects=n_subjects, derivatives=[\"rois_ho\"]\n",
    "    )\n",
    "    X = data[\"rois_ho\"]\n",
    "    y = LabelEncoder().fit_transform(data[\"phenotypic\"][\"DX_GROUP\"])\n",
    "    return X, y"
   ]
  },
  {
   "cell_type": "code",
   "execution_count": null,
   "id": "irish-killer",
   "metadata": {},
   "outputs": [],
   "source": [
    "model = make_pipeline(\n",
    "    ConnectivityMeasure(\n",
    "        kind=\"correlation\", vectorize=True, discard_diagonal=True\n",
    "    ),\n",
    "    LogisticRegression(C=10),\n",
    ")"
   ]
  },
  {
   "cell_type": "code",
   "execution_count": null,
   "id": "regulated-moses",
   "metadata": {},
   "outputs": [],
   "source": [
    "X, y = load_abide_data()"
   ]
  },
  {
   "cell_type": "code",
   "execution_count": null,
   "id": "metropolitan-necessity",
   "metadata": {},
   "outputs": [],
   "source": [
    "model.fit(X, y)\n",
    "predictions = model.predict(X)\n",
    "score = accuracy_score(y, predictions)\n",
    "print(f\"\\n\\nPrediction accuracy: {score}\")"
   ]
  },
  {
   "cell_type": "code",
   "execution_count": null,
   "id": "refined-death",
   "metadata": {},
   "outputs": [],
   "source": [
    "scores = pd.DataFrame(cross_validate(model, X, y, return_train_score=True))\n",
    "scores = scores.loc[:, [\"train_score\", \"test_score\"]].stack().reset_index()\n",
    "scores.columns = [\"split\", \"data\", \"score\"]"
   ]
  },
  {
   "cell_type": "code",
   "execution_count": null,
   "id": "artistic-windsor",
   "metadata": {},
   "outputs": [],
   "source": [
    "sns.stripplot(data=scores, x=\"score\", y=\"data\")\n",
    "plt.gca().set_xlabel(\"\")\n",
    "plt.gca().set_ylabel(\"\")\n",
    "plt.gca().set_title(\"Classification accuracy\")\n",
    "plt.tight_layout()\n",
    "plt.show()"
   ]
  }
 ],
 "metadata": {
  "jupytext": {
   "cell_metadata_filter": "-all",
   "main_language": "python",
   "notebook_metadata_filter": "-all"
  }
 },
 "nbformat": 4,
 "nbformat_minor": 5
}
